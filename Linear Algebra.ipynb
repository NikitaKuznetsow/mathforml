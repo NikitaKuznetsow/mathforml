{
 "cells": [
  {
   "cell_type": "markdown",
   "id": "d850f4a0",
   "metadata": {},
   "source": [
    "# mathforml\n",
    "\n",
    "Полезные ссылки:\n",
    "\n",
    "[Ссылка на блокнот с занятия](https://1drv.ms/u/s!AtKOK2CTXZpFgShI8cdzwd58EbRi)\n",
    " \n",
    "[Инструмент для построения графиков](https://www.desmos.com/?lang=ru)\n",
    "\n",
    "[Записи занятий](https://disk.yandex.ru/d/hkr7sC5PRUFwSg)\n",
    "\n"
   ]
  },
  {
   "cell_type": "markdown",
   "id": "2c49cb22",
   "metadata": {},
   "source": [
    "## Занятие 1"
   ]
  },
  {
   "cell_type": "markdown",
   "id": "9b9b357f",
   "metadata": {},
   "source": [
    "[Обязательно прочитать и спросить у меня если что-то не понятно](http://mathprofi.ru/vektory_dlya_chainikov.html)\n",
    "\n",
    "[Линейная алгебра для разработчиков](https://habr.com/ru/post/131931/)\n",
    "\n",
    "[Прочитать до третьего раздела](http://alik-abdulin.com/matrixes/matrixes.html#opred)"
   ]
  },
  {
   "cell_type": "markdown",
   "id": "1dc22dfb",
   "metadata": {},
   "source": [
    " 1. Посчитать скалярное произведение между векторами.\n",
    "\n",
    "\n",
    "а) $a = (1, 2), b = (-1, 3)$\n",
    "\n",
    "б) $a = (-1, 2, 0), b = (-4, 3, 1)$\n",
    "\n",
    "в) $|a| = 4, |b| = 2, \\alpha = 60^{o}$\n",
    " \n",
    "2. Вектора перпендикулярны?\n",
    "\n",
    "$a = (-1, 2, 0), b = (2, -1, 0)$\n",
    "\n",
    "\n",
    "3. Посчитать произведение матриц:\n",
    "\n",
    "$A = \n",
    "\\begin{pmatrix}\n",
    "1 & 2 & 3 \\\\\n",
    "4 & 5 & 6 \\\\\n",
    "7 & 8 & 9\n",
    "\\end{pmatrix}\n",
    "$\n",
    "\n",
    "$B = \n",
    "\\begin{pmatrix}\n",
    "1 & -1 & 2 \\\\\n",
    "4 & 0 & 6 \\\\\n",
    "7 & 8 & -1\n",
    "\\end{pmatrix}\n",
    "$\n",
    "\n",
    "$C = \n",
    "\\begin{pmatrix}\n",
    "1 & -1\\\\\n",
    "4 & 0\\\\\n",
    "7 & 8\n",
    "\\end{pmatrix}\n",
    "$\n",
    "\n",
    "$D = \n",
    "\\begin{pmatrix}\n",
    "1 & -1 & 2 \\\\\n",
    "4 & 0 & 6\n",
    "\\end{pmatrix}\n",
    "$\n",
    "\n",
    "\n",
    "\n",
    "\n",
    "$A * B = ?$\n",
    "\n",
    "$B * C = ?$\n",
    "\n",
    "$C * B = ?$\n",
    "\n",
    "$D * A = ?$"
   ]
  },
  {
   "cell_type": "code",
   "execution_count": null,
   "id": "785bc494",
   "metadata": {},
   "outputs": [],
   "source": []
  }
 ],
 "metadata": {
  "kernelspec": {
   "display_name": "Python 3 (ipykernel)",
   "language": "python",
   "name": "python3"
  },
  "language_info": {
   "codemirror_mode": {
    "name": "ipython",
    "version": 3
   },
   "file_extension": ".py",
   "mimetype": "text/x-python",
   "name": "python",
   "nbconvert_exporter": "python",
   "pygments_lexer": "ipython3",
   "version": "3.9.7"
  }
 },
 "nbformat": 4,
 "nbformat_minor": 5
}
