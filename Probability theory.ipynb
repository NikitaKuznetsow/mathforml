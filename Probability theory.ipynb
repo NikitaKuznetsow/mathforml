{
 "cells": [
  {
   "cell_type": "markdown",
   "id": "c373c9c8",
   "metadata": {},
   "source": [
    "Полезные ссылки"
   ]
  },
  {
   "cell_type": "markdown",
   "id": "4ee7b89b",
   "metadata": {},
   "source": [
    "[Записи занятий](https://disk.yandex.ru/d/hkr7sC5PRUFwSg)\n",
    "\n",
    "\n",
    "[Теория](http://lib.maupfib.kg/wp-content/uploads/2015/12/Teoria_veroatnosty_mat_stat.pdf)\n",
    "\n",
    "\n",
    "[Задачник](http://elenagavrile.narod.ru/ms/gmurman.pdf)\n"
   ]
  },
  {
   "cell_type": "markdown",
   "id": "0c6419c5",
   "metadata": {},
   "source": [
    "## Занятие 1"
   ]
  },
  {
   "cell_type": "markdown",
   "id": "cac2c96c",
   "metadata": {},
   "source": [
    "Почитать: Гмурман (ссылка на книгу выше) - первые 5 параграфов\\\n",
    "Задачи: (1, 2) - разобрать решения, (3, 5, 7) - решить.\n"
   ]
  },
  {
   "cell_type": "code",
   "execution_count": null,
   "id": "a3662111",
   "metadata": {},
   "outputs": [],
   "source": []
  }
 ],
 "metadata": {
  "kernelspec": {
   "display_name": "Python 3 (ipykernel)",
   "language": "python",
   "name": "python3"
  },
  "language_info": {
   "codemirror_mode": {
    "name": "ipython",
    "version": 3
   },
   "file_extension": ".py",
   "mimetype": "text/x-python",
   "name": "python",
   "nbconvert_exporter": "python",
   "pygments_lexer": "ipython3",
   "version": "3.9.7"
  }
 },
 "nbformat": 4,
 "nbformat_minor": 5
}
