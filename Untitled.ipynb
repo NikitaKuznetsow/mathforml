{
 "cells": [
  {
   "cell_type": "markdown",
   "id": "fbd9b11f",
   "metadata": {},
   "source": [
    "# mathforml\n",
    "## Занятие 0\n",
    "\n",
    " [Ссылка на блокнот с занятия](https://1drv.ms/u/s!AtKOK2CTXZpFgSj5tbnTFFyWt75T)\\\n",
    " [Инструмент для построения графиков](https://www.desmos.com/?lang=ru)\\\n",
    " Что посмотреть\\почитать:\\\n",
    " [Про функциюю, очень эмоционально, но понятно](https://www.youtube.com/watch?v=57T9Vx_tzG4&ab_channel=ArturSharifov)\\\n",
    " [Графическое объяснение производной, советую начать с этой статьи](http://mathprofi.ru/opredelenie_proizvodnoi_smysl_proizvodnoi.html)\\\n",
    " [Более математичное объяснение производной, советую этот канал](https://www.youtube.com/watch?v=sSnyhOXFLqc&ab_channel=%D0%91%D0%BE%D1%80%D0%B8%D1%81%D0%A2%D1%80%D1%83%D1%88%D0%B8%D0%BD)\\\n",
    " [Если хочешь понять, что за табличка производных и как ее использовать](https://www.youtube.com/watch?v=7Z6QZeagSZU&ab_channel=TutorOnline-%D1%83%D1%80%D0%BE%D0%BA%D0%B8%D0%B4%D0%BB%D1%8F%D1%88%D0%BA%D0%BE%D0%BB%D1%8C%D0%BD%D0%B8%D0%BA%D0%BE%D0%B2)\n",
    " \n",
    " \n",
    " \n",
    " ## Домашнее задание.\n",
    " \n",
    " Провести анализ 3 функций:\n",
    " \n",
    " 1. $f(x) = max(0.1x, x)$ (в ML ее называют LeakyRelu)\n",
    " 2. $f(x) = 1 + e^x + x^2$\n",
    " 3. $f(x) = \\frac{exp(x)-exp(‑x)}{exp(x)+exp(‑x)}$ (в ML ее называют гиперболический тангенс)\n",
    "\n",
    " \n",
    "Анализ включает: область определения, область значений, возрастание и убывание, max и min\n"
   ]
  }
 ],
 "metadata": {
  "kernelspec": {
   "display_name": "Python 3 (ipykernel)",
   "language": "python",
   "name": "python3"
  },
  "language_info": {
   "codemirror_mode": {
    "name": "ipython",
    "version": 3
   },
   "file_extension": ".py",
   "mimetype": "text/x-python",
   "name": "python",
   "nbconvert_exporter": "python",
   "pygments_lexer": "ipython3",
   "version": "3.9.7"
  }
 },
 "nbformat": 4,
 "nbformat_minor": 5
}
